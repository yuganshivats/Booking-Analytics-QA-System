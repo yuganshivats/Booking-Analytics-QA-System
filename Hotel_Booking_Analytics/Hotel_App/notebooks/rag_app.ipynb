{
 "cells": [
  {
   "cell_type": "markdown",
   "metadata": {},
   "source": [
    "# Rag App \n",
    "\n",
    "The aim is to build a rag based chat app on the 'hotel analysis report' and test it!."
   ]
  },
  {
   "cell_type": "markdown",
   "metadata": {},
   "source": [
    "## Installs"
   ]
  },
  {
   "cell_type": "code",
   "execution_count": 18,
   "metadata": {},
   "outputs": [
    {
     "name": "stdout",
     "output_type": "stream",
     "text": [
      "Requirement already satisfied: langchain_chroma in /opt/homebrew/Caskroom/miniconda/base/envs/analysis_env/lib/python3.12/site-packages (0.2.2)\n",
      "Requirement already satisfied: langchain_ollama in /opt/homebrew/Caskroom/miniconda/base/envs/analysis_env/lib/python3.12/site-packages (0.3.0)\n",
      "Requirement already satisfied: langchain_core in /opt/homebrew/Caskroom/miniconda/base/envs/analysis_env/lib/python3.12/site-packages (0.3.47)\n",
      "Requirement already satisfied: langchain_groq in /opt/homebrew/Caskroom/miniconda/base/envs/analysis_env/lib/python3.12/site-packages (0.3.1)\n",
      "Requirement already satisfied: load_dotenv in /opt/homebrew/Caskroom/miniconda/base/envs/analysis_env/lib/python3.12/site-packages (0.1.0)\n",
      "Requirement already satisfied: langchain_community in /opt/homebrew/Caskroom/miniconda/base/envs/analysis_env/lib/python3.12/site-packages (0.3.20)\n",
      "Requirement already satisfied: numpy<2.0.0,>=1.26.2 in /opt/homebrew/Caskroom/miniconda/base/envs/analysis_env/lib/python3.12/site-packages (from langchain_chroma) (1.26.4)\n",
      "Requirement already satisfied: chromadb!=0.5.10,!=0.5.11,!=0.5.12,!=0.5.4,!=0.5.5,!=0.5.7,!=0.5.9,<0.7.0,>=0.4.0 in /opt/homebrew/Caskroom/miniconda/base/envs/analysis_env/lib/python3.12/site-packages (from langchain_chroma) (0.6.3)\n",
      "Requirement already satisfied: ollama<1,>=0.4.4 in /opt/homebrew/Caskroom/miniconda/base/envs/analysis_env/lib/python3.12/site-packages (from langchain_ollama) (0.4.7)\n",
      "Requirement already satisfied: langsmith<0.4,>=0.1.125 in /opt/homebrew/Caskroom/miniconda/base/envs/analysis_env/lib/python3.12/site-packages (from langchain_core) (0.3.18)\n",
      "Requirement already satisfied: tenacity!=8.4.0,<10.0.0,>=8.1.0 in /opt/homebrew/Caskroom/miniconda/base/envs/analysis_env/lib/python3.12/site-packages (from langchain_core) (9.0.0)\n",
      "Requirement already satisfied: jsonpatch<2.0,>=1.33 in /opt/homebrew/Caskroom/miniconda/base/envs/analysis_env/lib/python3.12/site-packages (from langchain_core) (1.33)\n",
      "Requirement already satisfied: PyYAML>=5.3 in /opt/homebrew/Caskroom/miniconda/base/envs/analysis_env/lib/python3.12/site-packages (from langchain_core) (6.0.2)\n",
      "Requirement already satisfied: packaging<25,>=23.2 in /opt/homebrew/Caskroom/miniconda/base/envs/analysis_env/lib/python3.12/site-packages (from langchain_core) (24.2)\n",
      "Requirement already satisfied: typing-extensions>=4.7 in /opt/homebrew/Caskroom/miniconda/base/envs/analysis_env/lib/python3.12/site-packages (from langchain_core) (4.12.2)\n",
      "Requirement already satisfied: pydantic<3.0.0,>=2.5.2 in /opt/homebrew/Caskroom/miniconda/base/envs/analysis_env/lib/python3.12/site-packages (from langchain_core) (2.10.6)\n",
      "Requirement already satisfied: groq<1,>=0.4.1 in /opt/homebrew/Caskroom/miniconda/base/envs/analysis_env/lib/python3.12/site-packages (from langchain_groq) (0.20.0)\n",
      "Requirement already satisfied: python-dotenv in /opt/homebrew/Caskroom/miniconda/base/envs/analysis_env/lib/python3.12/site-packages (from load_dotenv) (1.0.1)\n",
      "Requirement already satisfied: langchain<1.0.0,>=0.3.21 in /opt/homebrew/Caskroom/miniconda/base/envs/analysis_env/lib/python3.12/site-packages (from langchain_community) (0.3.21)\n",
      "Requirement already satisfied: SQLAlchemy<3,>=1.4 in /opt/homebrew/Caskroom/miniconda/base/envs/analysis_env/lib/python3.12/site-packages (from langchain_community) (2.0.39)\n",
      "Requirement already satisfied: requests<3,>=2 in /opt/homebrew/Caskroom/miniconda/base/envs/analysis_env/lib/python3.12/site-packages (from langchain_community) (2.32.3)\n",
      "Requirement already satisfied: aiohttp<4.0.0,>=3.8.3 in /opt/homebrew/Caskroom/miniconda/base/envs/analysis_env/lib/python3.12/site-packages (from langchain_community) (3.11.14)\n",
      "Requirement already satisfied: dataclasses-json<0.7,>=0.5.7 in /opt/homebrew/Caskroom/miniconda/base/envs/analysis_env/lib/python3.12/site-packages (from langchain_community) (0.6.7)\n",
      "Requirement already satisfied: pydantic-settings<3.0.0,>=2.4.0 in /opt/homebrew/Caskroom/miniconda/base/envs/analysis_env/lib/python3.12/site-packages (from langchain_community) (2.8.1)\n",
      "Requirement already satisfied: httpx-sse<1.0.0,>=0.4.0 in /opt/homebrew/Caskroom/miniconda/base/envs/analysis_env/lib/python3.12/site-packages (from langchain_community) (0.4.0)\n",
      "Requirement already satisfied: aiohappyeyeballs>=2.3.0 in /opt/homebrew/Caskroom/miniconda/base/envs/analysis_env/lib/python3.12/site-packages (from aiohttp<4.0.0,>=3.8.3->langchain_community) (2.6.1)\n",
      "Requirement already satisfied: aiosignal>=1.1.2 in /opt/homebrew/Caskroom/miniconda/base/envs/analysis_env/lib/python3.12/site-packages (from aiohttp<4.0.0,>=3.8.3->langchain_community) (1.3.2)\n",
      "Requirement already satisfied: attrs>=17.3.0 in /opt/homebrew/Caskroom/miniconda/base/envs/analysis_env/lib/python3.12/site-packages (from aiohttp<4.0.0,>=3.8.3->langchain_community) (25.3.0)\n",
      "Requirement already satisfied: frozenlist>=1.1.1 in /opt/homebrew/Caskroom/miniconda/base/envs/analysis_env/lib/python3.12/site-packages (from aiohttp<4.0.0,>=3.8.3->langchain_community) (1.5.0)\n",
      "Requirement already satisfied: multidict<7.0,>=4.5 in /opt/homebrew/Caskroom/miniconda/base/envs/analysis_env/lib/python3.12/site-packages (from aiohttp<4.0.0,>=3.8.3->langchain_community) (6.2.0)\n",
      "Requirement already satisfied: propcache>=0.2.0 in /opt/homebrew/Caskroom/miniconda/base/envs/analysis_env/lib/python3.12/site-packages (from aiohttp<4.0.0,>=3.8.3->langchain_community) (0.3.0)\n",
      "Requirement already satisfied: yarl<2.0,>=1.17.0 in /opt/homebrew/Caskroom/miniconda/base/envs/analysis_env/lib/python3.12/site-packages (from aiohttp<4.0.0,>=3.8.3->langchain_community) (1.18.3)\n",
      "Requirement already satisfied: build>=1.0.3 in /opt/homebrew/Caskroom/miniconda/base/envs/analysis_env/lib/python3.12/site-packages (from chromadb!=0.5.10,!=0.5.11,!=0.5.12,!=0.5.4,!=0.5.5,!=0.5.7,!=0.5.9,<0.7.0,>=0.4.0->langchain_chroma) (1.2.2.post1)\n",
      "Requirement already satisfied: chroma-hnswlib==0.7.6 in /opt/homebrew/Caskroom/miniconda/base/envs/analysis_env/lib/python3.12/site-packages (from chromadb!=0.5.10,!=0.5.11,!=0.5.12,!=0.5.4,!=0.5.5,!=0.5.7,!=0.5.9,<0.7.0,>=0.4.0->langchain_chroma) (0.7.6)\n",
      "Requirement already satisfied: fastapi>=0.95.2 in /opt/homebrew/Caskroom/miniconda/base/envs/analysis_env/lib/python3.12/site-packages (from chromadb!=0.5.10,!=0.5.11,!=0.5.12,!=0.5.4,!=0.5.5,!=0.5.7,!=0.5.9,<0.7.0,>=0.4.0->langchain_chroma) (0.115.11)\n",
      "Requirement already satisfied: uvicorn>=0.18.3 in /opt/homebrew/Caskroom/miniconda/base/envs/analysis_env/lib/python3.12/site-packages (from uvicorn[standard]>=0.18.3->chromadb!=0.5.10,!=0.5.11,!=0.5.12,!=0.5.4,!=0.5.5,!=0.5.7,!=0.5.9,<0.7.0,>=0.4.0->langchain_chroma) (0.34.0)\n",
      "Requirement already satisfied: posthog>=2.4.0 in /opt/homebrew/Caskroom/miniconda/base/envs/analysis_env/lib/python3.12/site-packages (from chromadb!=0.5.10,!=0.5.11,!=0.5.12,!=0.5.4,!=0.5.5,!=0.5.7,!=0.5.9,<0.7.0,>=0.4.0->langchain_chroma) (3.21.0)\n",
      "Requirement already satisfied: onnxruntime>=1.14.1 in /opt/homebrew/Caskroom/miniconda/base/envs/analysis_env/lib/python3.12/site-packages (from chromadb!=0.5.10,!=0.5.11,!=0.5.12,!=0.5.4,!=0.5.5,!=0.5.7,!=0.5.9,<0.7.0,>=0.4.0->langchain_chroma) (1.21.0)\n",
      "Requirement already satisfied: opentelemetry-api>=1.2.0 in /opt/homebrew/Caskroom/miniconda/base/envs/analysis_env/lib/python3.12/site-packages (from chromadb!=0.5.10,!=0.5.11,!=0.5.12,!=0.5.4,!=0.5.5,!=0.5.7,!=0.5.9,<0.7.0,>=0.4.0->langchain_chroma) (1.31.1)\n",
      "Requirement already satisfied: opentelemetry-exporter-otlp-proto-grpc>=1.2.0 in /opt/homebrew/Caskroom/miniconda/base/envs/analysis_env/lib/python3.12/site-packages (from chromadb!=0.5.10,!=0.5.11,!=0.5.12,!=0.5.4,!=0.5.5,!=0.5.7,!=0.5.9,<0.7.0,>=0.4.0->langchain_chroma) (1.31.1)\n",
      "Requirement already satisfied: opentelemetry-instrumentation-fastapi>=0.41b0 in /opt/homebrew/Caskroom/miniconda/base/envs/analysis_env/lib/python3.12/site-packages (from chromadb!=0.5.10,!=0.5.11,!=0.5.12,!=0.5.4,!=0.5.5,!=0.5.7,!=0.5.9,<0.7.0,>=0.4.0->langchain_chroma) (0.52b1)\n",
      "Requirement already satisfied: opentelemetry-sdk>=1.2.0 in /opt/homebrew/Caskroom/miniconda/base/envs/analysis_env/lib/python3.12/site-packages (from chromadb!=0.5.10,!=0.5.11,!=0.5.12,!=0.5.4,!=0.5.5,!=0.5.7,!=0.5.9,<0.7.0,>=0.4.0->langchain_chroma) (1.31.1)\n",
      "Requirement already satisfied: tokenizers>=0.13.2 in /opt/homebrew/Caskroom/miniconda/base/envs/analysis_env/lib/python3.12/site-packages (from chromadb!=0.5.10,!=0.5.11,!=0.5.12,!=0.5.4,!=0.5.5,!=0.5.7,!=0.5.9,<0.7.0,>=0.4.0->langchain_chroma) (0.21.1)\n",
      "Requirement already satisfied: pypika>=0.48.9 in /opt/homebrew/Caskroom/miniconda/base/envs/analysis_env/lib/python3.12/site-packages (from chromadb!=0.5.10,!=0.5.11,!=0.5.12,!=0.5.4,!=0.5.5,!=0.5.7,!=0.5.9,<0.7.0,>=0.4.0->langchain_chroma) (0.48.9)\n",
      "Requirement already satisfied: tqdm>=4.65.0 in /opt/homebrew/Caskroom/miniconda/base/envs/analysis_env/lib/python3.12/site-packages (from chromadb!=0.5.10,!=0.5.11,!=0.5.12,!=0.5.4,!=0.5.5,!=0.5.7,!=0.5.9,<0.7.0,>=0.4.0->langchain_chroma) (4.67.1)\n",
      "Requirement already satisfied: overrides>=7.3.1 in /opt/homebrew/Caskroom/miniconda/base/envs/analysis_env/lib/python3.12/site-packages (from chromadb!=0.5.10,!=0.5.11,!=0.5.12,!=0.5.4,!=0.5.5,!=0.5.7,!=0.5.9,<0.7.0,>=0.4.0->langchain_chroma) (7.7.0)\n",
      "Requirement already satisfied: importlib-resources in /opt/homebrew/Caskroom/miniconda/base/envs/analysis_env/lib/python3.12/site-packages (from chromadb!=0.5.10,!=0.5.11,!=0.5.12,!=0.5.4,!=0.5.5,!=0.5.7,!=0.5.9,<0.7.0,>=0.4.0->langchain_chroma) (6.5.2)\n",
      "Requirement already satisfied: grpcio>=1.58.0 in /opt/homebrew/Caskroom/miniconda/base/envs/analysis_env/lib/python3.12/site-packages (from chromadb!=0.5.10,!=0.5.11,!=0.5.12,!=0.5.4,!=0.5.5,!=0.5.7,!=0.5.9,<0.7.0,>=0.4.0->langchain_chroma) (1.71.0)\n",
      "Requirement already satisfied: bcrypt>=4.0.1 in /opt/homebrew/Caskroom/miniconda/base/envs/analysis_env/lib/python3.12/site-packages (from chromadb!=0.5.10,!=0.5.11,!=0.5.12,!=0.5.4,!=0.5.5,!=0.5.7,!=0.5.9,<0.7.0,>=0.4.0->langchain_chroma) (4.3.0)\n",
      "Requirement already satisfied: typer>=0.9.0 in /opt/homebrew/Caskroom/miniconda/base/envs/analysis_env/lib/python3.12/site-packages (from chromadb!=0.5.10,!=0.5.11,!=0.5.12,!=0.5.4,!=0.5.5,!=0.5.7,!=0.5.9,<0.7.0,>=0.4.0->langchain_chroma) (0.15.2)\n",
      "Requirement already satisfied: kubernetes>=28.1.0 in /opt/homebrew/Caskroom/miniconda/base/envs/analysis_env/lib/python3.12/site-packages (from chromadb!=0.5.10,!=0.5.11,!=0.5.12,!=0.5.4,!=0.5.5,!=0.5.7,!=0.5.9,<0.7.0,>=0.4.0->langchain_chroma) (32.0.1)\n",
      "Requirement already satisfied: mmh3>=4.0.1 in /opt/homebrew/Caskroom/miniconda/base/envs/analysis_env/lib/python3.12/site-packages (from chromadb!=0.5.10,!=0.5.11,!=0.5.12,!=0.5.4,!=0.5.5,!=0.5.7,!=0.5.9,<0.7.0,>=0.4.0->langchain_chroma) (5.1.0)\n",
      "Requirement already satisfied: orjson>=3.9.12 in /opt/homebrew/Caskroom/miniconda/base/envs/analysis_env/lib/python3.12/site-packages (from chromadb!=0.5.10,!=0.5.11,!=0.5.12,!=0.5.4,!=0.5.5,!=0.5.7,!=0.5.9,<0.7.0,>=0.4.0->langchain_chroma) (3.10.15)\n",
      "Requirement already satisfied: httpx>=0.27.0 in /opt/homebrew/Caskroom/miniconda/base/envs/analysis_env/lib/python3.12/site-packages (from chromadb!=0.5.10,!=0.5.11,!=0.5.12,!=0.5.4,!=0.5.5,!=0.5.7,!=0.5.9,<0.7.0,>=0.4.0->langchain_chroma) (0.28.1)\n",
      "Requirement already satisfied: rich>=10.11.0 in /opt/homebrew/Caskroom/miniconda/base/envs/analysis_env/lib/python3.12/site-packages (from chromadb!=0.5.10,!=0.5.11,!=0.5.12,!=0.5.4,!=0.5.5,!=0.5.7,!=0.5.9,<0.7.0,>=0.4.0->langchain_chroma) (13.9.4)\n",
      "Requirement already satisfied: marshmallow<4.0.0,>=3.18.0 in /opt/homebrew/Caskroom/miniconda/base/envs/analysis_env/lib/python3.12/site-packages (from dataclasses-json<0.7,>=0.5.7->langchain_community) (3.26.1)\n",
      "Requirement already satisfied: typing-inspect<1,>=0.4.0 in /opt/homebrew/Caskroom/miniconda/base/envs/analysis_env/lib/python3.12/site-packages (from dataclasses-json<0.7,>=0.5.7->langchain_community) (0.9.0)\n",
      "Requirement already satisfied: anyio<5,>=3.5.0 in /opt/homebrew/Caskroom/miniconda/base/envs/analysis_env/lib/python3.12/site-packages (from groq<1,>=0.4.1->langchain_groq) (4.9.0)\n",
      "Requirement already satisfied: distro<2,>=1.7.0 in /opt/homebrew/Caskroom/miniconda/base/envs/analysis_env/lib/python3.12/site-packages (from groq<1,>=0.4.1->langchain_groq) (1.9.0)\n",
      "Requirement already satisfied: sniffio in /opt/homebrew/Caskroom/miniconda/base/envs/analysis_env/lib/python3.12/site-packages (from groq<1,>=0.4.1->langchain_groq) (1.3.1)\n",
      "Requirement already satisfied: jsonpointer>=1.9 in /opt/homebrew/Caskroom/miniconda/base/envs/analysis_env/lib/python3.12/site-packages (from jsonpatch<2.0,>=1.33->langchain_core) (3.0.0)\n",
      "Requirement already satisfied: langchain-text-splitters<1.0.0,>=0.3.7 in /opt/homebrew/Caskroom/miniconda/base/envs/analysis_env/lib/python3.12/site-packages (from langchain<1.0.0,>=0.3.21->langchain_community) (0.3.7)\n",
      "Requirement already satisfied: requests-toolbelt<2.0.0,>=1.0.0 in /opt/homebrew/Caskroom/miniconda/base/envs/analysis_env/lib/python3.12/site-packages (from langsmith<0.4,>=0.1.125->langchain_core) (1.0.0)\n",
      "Requirement already satisfied: zstandard<0.24.0,>=0.23.0 in /opt/homebrew/Caskroom/miniconda/base/envs/analysis_env/lib/python3.12/site-packages (from langsmith<0.4,>=0.1.125->langchain_core) (0.23.0)\n",
      "Requirement already satisfied: annotated-types>=0.6.0 in /opt/homebrew/Caskroom/miniconda/base/envs/analysis_env/lib/python3.12/site-packages (from pydantic<3.0.0,>=2.5.2->langchain_core) (0.7.0)\n",
      "Requirement already satisfied: pydantic-core==2.27.2 in /opt/homebrew/Caskroom/miniconda/base/envs/analysis_env/lib/python3.12/site-packages (from pydantic<3.0.0,>=2.5.2->langchain_core) (2.27.2)\n",
      "Requirement already satisfied: charset-normalizer<4,>=2 in /opt/homebrew/Caskroom/miniconda/base/envs/analysis_env/lib/python3.12/site-packages (from requests<3,>=2->langchain_community) (3.4.1)\n",
      "Requirement already satisfied: idna<4,>=2.5 in /opt/homebrew/Caskroom/miniconda/base/envs/analysis_env/lib/python3.12/site-packages (from requests<3,>=2->langchain_community) (3.10)\n",
      "Requirement already satisfied: urllib3<3,>=1.21.1 in /opt/homebrew/Caskroom/miniconda/base/envs/analysis_env/lib/python3.12/site-packages (from requests<3,>=2->langchain_community) (2.3.0)\n",
      "Requirement already satisfied: certifi>=2017.4.17 in /opt/homebrew/Caskroom/miniconda/base/envs/analysis_env/lib/python3.12/site-packages (from requests<3,>=2->langchain_community) (2025.1.31)\n",
      "Requirement already satisfied: pyproject_hooks in /opt/homebrew/Caskroom/miniconda/base/envs/analysis_env/lib/python3.12/site-packages (from build>=1.0.3->chromadb!=0.5.10,!=0.5.11,!=0.5.12,!=0.5.4,!=0.5.5,!=0.5.7,!=0.5.9,<0.7.0,>=0.4.0->langchain_chroma) (1.2.0)\n",
      "Requirement already satisfied: starlette<0.47.0,>=0.40.0 in /opt/homebrew/Caskroom/miniconda/base/envs/analysis_env/lib/python3.12/site-packages (from fastapi>=0.95.2->chromadb!=0.5.10,!=0.5.11,!=0.5.12,!=0.5.4,!=0.5.5,!=0.5.7,!=0.5.9,<0.7.0,>=0.4.0->langchain_chroma) (0.46.1)\n",
      "Requirement already satisfied: httpcore==1.* in /opt/homebrew/Caskroom/miniconda/base/envs/analysis_env/lib/python3.12/site-packages (from httpx>=0.27.0->chromadb!=0.5.10,!=0.5.11,!=0.5.12,!=0.5.4,!=0.5.5,!=0.5.7,!=0.5.9,<0.7.0,>=0.4.0->langchain_chroma) (1.0.7)\n",
      "Requirement already satisfied: h11<0.15,>=0.13 in /opt/homebrew/Caskroom/miniconda/base/envs/analysis_env/lib/python3.12/site-packages (from httpcore==1.*->httpx>=0.27.0->chromadb!=0.5.10,!=0.5.11,!=0.5.12,!=0.5.4,!=0.5.5,!=0.5.7,!=0.5.9,<0.7.0,>=0.4.0->langchain_chroma) (0.14.0)\n",
      "Requirement already satisfied: six>=1.9.0 in /opt/homebrew/Caskroom/miniconda/base/envs/analysis_env/lib/python3.12/site-packages (from kubernetes>=28.1.0->chromadb!=0.5.10,!=0.5.11,!=0.5.12,!=0.5.4,!=0.5.5,!=0.5.7,!=0.5.9,<0.7.0,>=0.4.0->langchain_chroma) (1.17.0)\n",
      "Requirement already satisfied: python-dateutil>=2.5.3 in /opt/homebrew/Caskroom/miniconda/base/envs/analysis_env/lib/python3.12/site-packages (from kubernetes>=28.1.0->chromadb!=0.5.10,!=0.5.11,!=0.5.12,!=0.5.4,!=0.5.5,!=0.5.7,!=0.5.9,<0.7.0,>=0.4.0->langchain_chroma) (2.9.0.post0)\n",
      "Requirement already satisfied: google-auth>=1.0.1 in /opt/homebrew/Caskroom/miniconda/base/envs/analysis_env/lib/python3.12/site-packages (from kubernetes>=28.1.0->chromadb!=0.5.10,!=0.5.11,!=0.5.12,!=0.5.4,!=0.5.5,!=0.5.7,!=0.5.9,<0.7.0,>=0.4.0->langchain_chroma) (2.38.0)\n",
      "Requirement already satisfied: websocket-client!=0.40.0,!=0.41.*,!=0.42.*,>=0.32.0 in /opt/homebrew/Caskroom/miniconda/base/envs/analysis_env/lib/python3.12/site-packages (from kubernetes>=28.1.0->chromadb!=0.5.10,!=0.5.11,!=0.5.12,!=0.5.4,!=0.5.5,!=0.5.7,!=0.5.9,<0.7.0,>=0.4.0->langchain_chroma) (1.8.0)\n",
      "Requirement already satisfied: requests-oauthlib in /opt/homebrew/Caskroom/miniconda/base/envs/analysis_env/lib/python3.12/site-packages (from kubernetes>=28.1.0->chromadb!=0.5.10,!=0.5.11,!=0.5.12,!=0.5.4,!=0.5.5,!=0.5.7,!=0.5.9,<0.7.0,>=0.4.0->langchain_chroma) (2.0.0)\n",
      "Requirement already satisfied: oauthlib>=3.2.2 in /opt/homebrew/Caskroom/miniconda/base/envs/analysis_env/lib/python3.12/site-packages (from kubernetes>=28.1.0->chromadb!=0.5.10,!=0.5.11,!=0.5.12,!=0.5.4,!=0.5.5,!=0.5.7,!=0.5.9,<0.7.0,>=0.4.0->langchain_chroma) (3.2.2)\n",
      "Requirement already satisfied: durationpy>=0.7 in /opt/homebrew/Caskroom/miniconda/base/envs/analysis_env/lib/python3.12/site-packages (from kubernetes>=28.1.0->chromadb!=0.5.10,!=0.5.11,!=0.5.12,!=0.5.4,!=0.5.5,!=0.5.7,!=0.5.9,<0.7.0,>=0.4.0->langchain_chroma) (0.9)\n",
      "Requirement already satisfied: coloredlogs in /opt/homebrew/Caskroom/miniconda/base/envs/analysis_env/lib/python3.12/site-packages (from onnxruntime>=1.14.1->chromadb!=0.5.10,!=0.5.11,!=0.5.12,!=0.5.4,!=0.5.5,!=0.5.7,!=0.5.9,<0.7.0,>=0.4.0->langchain_chroma) (15.0.1)\n",
      "Requirement already satisfied: flatbuffers in /opt/homebrew/Caskroom/miniconda/base/envs/analysis_env/lib/python3.12/site-packages (from onnxruntime>=1.14.1->chromadb!=0.5.10,!=0.5.11,!=0.5.12,!=0.5.4,!=0.5.5,!=0.5.7,!=0.5.9,<0.7.0,>=0.4.0->langchain_chroma) (25.2.10)\n",
      "Requirement already satisfied: protobuf in /opt/homebrew/Caskroom/miniconda/base/envs/analysis_env/lib/python3.12/site-packages (from onnxruntime>=1.14.1->chromadb!=0.5.10,!=0.5.11,!=0.5.12,!=0.5.4,!=0.5.5,!=0.5.7,!=0.5.9,<0.7.0,>=0.4.0->langchain_chroma) (5.29.4)\n",
      "Requirement already satisfied: sympy in /opt/homebrew/Caskroom/miniconda/base/envs/analysis_env/lib/python3.12/site-packages (from onnxruntime>=1.14.1->chromadb!=0.5.10,!=0.5.11,!=0.5.12,!=0.5.4,!=0.5.5,!=0.5.7,!=0.5.9,<0.7.0,>=0.4.0->langchain_chroma) (1.13.1)\n",
      "Requirement already satisfied: deprecated>=1.2.6 in /opt/homebrew/Caskroom/miniconda/base/envs/analysis_env/lib/python3.12/site-packages (from opentelemetry-api>=1.2.0->chromadb!=0.5.10,!=0.5.11,!=0.5.12,!=0.5.4,!=0.5.5,!=0.5.7,!=0.5.9,<0.7.0,>=0.4.0->langchain_chroma) (1.2.18)\n",
      "Requirement already satisfied: importlib-metadata<8.7.0,>=6.0 in /opt/homebrew/Caskroom/miniconda/base/envs/analysis_env/lib/python3.12/site-packages (from opentelemetry-api>=1.2.0->chromadb!=0.5.10,!=0.5.11,!=0.5.12,!=0.5.4,!=0.5.5,!=0.5.7,!=0.5.9,<0.7.0,>=0.4.0->langchain_chroma) (8.6.1)\n",
      "Requirement already satisfied: googleapis-common-protos~=1.52 in /opt/homebrew/Caskroom/miniconda/base/envs/analysis_env/lib/python3.12/site-packages (from opentelemetry-exporter-otlp-proto-grpc>=1.2.0->chromadb!=0.5.10,!=0.5.11,!=0.5.12,!=0.5.4,!=0.5.5,!=0.5.7,!=0.5.9,<0.7.0,>=0.4.0->langchain_chroma) (1.69.2)\n",
      "Requirement already satisfied: opentelemetry-exporter-otlp-proto-common==1.31.1 in /opt/homebrew/Caskroom/miniconda/base/envs/analysis_env/lib/python3.12/site-packages (from opentelemetry-exporter-otlp-proto-grpc>=1.2.0->chromadb!=0.5.10,!=0.5.11,!=0.5.12,!=0.5.4,!=0.5.5,!=0.5.7,!=0.5.9,<0.7.0,>=0.4.0->langchain_chroma) (1.31.1)\n",
      "Requirement already satisfied: opentelemetry-proto==1.31.1 in /opt/homebrew/Caskroom/miniconda/base/envs/analysis_env/lib/python3.12/site-packages (from opentelemetry-exporter-otlp-proto-grpc>=1.2.0->chromadb!=0.5.10,!=0.5.11,!=0.5.12,!=0.5.4,!=0.5.5,!=0.5.7,!=0.5.9,<0.7.0,>=0.4.0->langchain_chroma) (1.31.1)\n",
      "Requirement already satisfied: opentelemetry-instrumentation-asgi==0.52b1 in /opt/homebrew/Caskroom/miniconda/base/envs/analysis_env/lib/python3.12/site-packages (from opentelemetry-instrumentation-fastapi>=0.41b0->chromadb!=0.5.10,!=0.5.11,!=0.5.12,!=0.5.4,!=0.5.5,!=0.5.7,!=0.5.9,<0.7.0,>=0.4.0->langchain_chroma) (0.52b1)\n",
      "Requirement already satisfied: opentelemetry-instrumentation==0.52b1 in /opt/homebrew/Caskroom/miniconda/base/envs/analysis_env/lib/python3.12/site-packages (from opentelemetry-instrumentation-fastapi>=0.41b0->chromadb!=0.5.10,!=0.5.11,!=0.5.12,!=0.5.4,!=0.5.5,!=0.5.7,!=0.5.9,<0.7.0,>=0.4.0->langchain_chroma) (0.52b1)\n",
      "Requirement already satisfied: opentelemetry-semantic-conventions==0.52b1 in /opt/homebrew/Caskroom/miniconda/base/envs/analysis_env/lib/python3.12/site-packages (from opentelemetry-instrumentation-fastapi>=0.41b0->chromadb!=0.5.10,!=0.5.11,!=0.5.12,!=0.5.4,!=0.5.5,!=0.5.7,!=0.5.9,<0.7.0,>=0.4.0->langchain_chroma) (0.52b1)\n",
      "Requirement already satisfied: opentelemetry-util-http==0.52b1 in /opt/homebrew/Caskroom/miniconda/base/envs/analysis_env/lib/python3.12/site-packages (from opentelemetry-instrumentation-fastapi>=0.41b0->chromadb!=0.5.10,!=0.5.11,!=0.5.12,!=0.5.4,!=0.5.5,!=0.5.7,!=0.5.9,<0.7.0,>=0.4.0->langchain_chroma) (0.52b1)\n",
      "Requirement already satisfied: wrapt<2.0.0,>=1.0.0 in /opt/homebrew/Caskroom/miniconda/base/envs/analysis_env/lib/python3.12/site-packages (from opentelemetry-instrumentation==0.52b1->opentelemetry-instrumentation-fastapi>=0.41b0->chromadb!=0.5.10,!=0.5.11,!=0.5.12,!=0.5.4,!=0.5.5,!=0.5.7,!=0.5.9,<0.7.0,>=0.4.0->langchain_chroma) (1.17.2)\n",
      "Requirement already satisfied: asgiref~=3.0 in /opt/homebrew/Caskroom/miniconda/base/envs/analysis_env/lib/python3.12/site-packages (from opentelemetry-instrumentation-asgi==0.52b1->opentelemetry-instrumentation-fastapi>=0.41b0->chromadb!=0.5.10,!=0.5.11,!=0.5.12,!=0.5.4,!=0.5.5,!=0.5.7,!=0.5.9,<0.7.0,>=0.4.0->langchain_chroma) (3.8.1)\n",
      "Requirement already satisfied: monotonic>=1.5 in /opt/homebrew/Caskroom/miniconda/base/envs/analysis_env/lib/python3.12/site-packages (from posthog>=2.4.0->chromadb!=0.5.10,!=0.5.11,!=0.5.12,!=0.5.4,!=0.5.5,!=0.5.7,!=0.5.9,<0.7.0,>=0.4.0->langchain_chroma) (1.6)\n",
      "Requirement already satisfied: backoff>=1.10.0 in /opt/homebrew/Caskroom/miniconda/base/envs/analysis_env/lib/python3.12/site-packages (from posthog>=2.4.0->chromadb!=0.5.10,!=0.5.11,!=0.5.12,!=0.5.4,!=0.5.5,!=0.5.7,!=0.5.9,<0.7.0,>=0.4.0->langchain_chroma) (2.2.1)\n",
      "Requirement already satisfied: markdown-it-py>=2.2.0 in /opt/homebrew/Caskroom/miniconda/base/envs/analysis_env/lib/python3.12/site-packages (from rich>=10.11.0->chromadb!=0.5.10,!=0.5.11,!=0.5.12,!=0.5.4,!=0.5.5,!=0.5.7,!=0.5.9,<0.7.0,>=0.4.0->langchain_chroma) (3.0.0)\n",
      "Requirement already satisfied: pygments<3.0.0,>=2.13.0 in /opt/homebrew/Caskroom/miniconda/base/envs/analysis_env/lib/python3.12/site-packages (from rich>=10.11.0->chromadb!=0.5.10,!=0.5.11,!=0.5.12,!=0.5.4,!=0.5.5,!=0.5.7,!=0.5.9,<0.7.0,>=0.4.0->langchain_chroma) (2.19.1)\n",
      "Requirement already satisfied: huggingface-hub<1.0,>=0.16.4 in /opt/homebrew/Caskroom/miniconda/base/envs/analysis_env/lib/python3.12/site-packages (from tokenizers>=0.13.2->chromadb!=0.5.10,!=0.5.11,!=0.5.12,!=0.5.4,!=0.5.5,!=0.5.7,!=0.5.9,<0.7.0,>=0.4.0->langchain_chroma) (0.29.3)\n",
      "Requirement already satisfied: click>=8.0.0 in /opt/homebrew/Caskroom/miniconda/base/envs/analysis_env/lib/python3.12/site-packages (from typer>=0.9.0->chromadb!=0.5.10,!=0.5.11,!=0.5.12,!=0.5.4,!=0.5.5,!=0.5.7,!=0.5.9,<0.7.0,>=0.4.0->langchain_chroma) (8.1.8)\n",
      "Requirement already satisfied: shellingham>=1.3.0 in /opt/homebrew/Caskroom/miniconda/base/envs/analysis_env/lib/python3.12/site-packages (from typer>=0.9.0->chromadb!=0.5.10,!=0.5.11,!=0.5.12,!=0.5.4,!=0.5.5,!=0.5.7,!=0.5.9,<0.7.0,>=0.4.0->langchain_chroma) (1.5.4)\n",
      "Requirement already satisfied: mypy-extensions>=0.3.0 in /opt/homebrew/Caskroom/miniconda/base/envs/analysis_env/lib/python3.12/site-packages (from typing-inspect<1,>=0.4.0->dataclasses-json<0.7,>=0.5.7->langchain_community) (1.0.0)\n",
      "Requirement already satisfied: httptools>=0.6.3 in /opt/homebrew/Caskroom/miniconda/base/envs/analysis_env/lib/python3.12/site-packages (from uvicorn[standard]>=0.18.3->chromadb!=0.5.10,!=0.5.11,!=0.5.12,!=0.5.4,!=0.5.5,!=0.5.7,!=0.5.9,<0.7.0,>=0.4.0->langchain_chroma) (0.6.4)\n",
      "Requirement already satisfied: uvloop!=0.15.0,!=0.15.1,>=0.14.0 in /opt/homebrew/Caskroom/miniconda/base/envs/analysis_env/lib/python3.12/site-packages (from uvicorn[standard]>=0.18.3->chromadb!=0.5.10,!=0.5.11,!=0.5.12,!=0.5.4,!=0.5.5,!=0.5.7,!=0.5.9,<0.7.0,>=0.4.0->langchain_chroma) (0.21.0)\n",
      "Requirement already satisfied: watchfiles>=0.13 in /opt/homebrew/Caskroom/miniconda/base/envs/analysis_env/lib/python3.12/site-packages (from uvicorn[standard]>=0.18.3->chromadb!=0.5.10,!=0.5.11,!=0.5.12,!=0.5.4,!=0.5.5,!=0.5.7,!=0.5.9,<0.7.0,>=0.4.0->langchain_chroma) (1.0.4)\n",
      "Requirement already satisfied: websockets>=10.4 in /opt/homebrew/Caskroom/miniconda/base/envs/analysis_env/lib/python3.12/site-packages (from uvicorn[standard]>=0.18.3->chromadb!=0.5.10,!=0.5.11,!=0.5.12,!=0.5.4,!=0.5.5,!=0.5.7,!=0.5.9,<0.7.0,>=0.4.0->langchain_chroma) (15.0.1)\n",
      "Requirement already satisfied: cachetools<6.0,>=2.0.0 in /opt/homebrew/Caskroom/miniconda/base/envs/analysis_env/lib/python3.12/site-packages (from google-auth>=1.0.1->kubernetes>=28.1.0->chromadb!=0.5.10,!=0.5.11,!=0.5.12,!=0.5.4,!=0.5.5,!=0.5.7,!=0.5.9,<0.7.0,>=0.4.0->langchain_chroma) (5.5.2)\n",
      "Requirement already satisfied: pyasn1-modules>=0.2.1 in /opt/homebrew/Caskroom/miniconda/base/envs/analysis_env/lib/python3.12/site-packages (from google-auth>=1.0.1->kubernetes>=28.1.0->chromadb!=0.5.10,!=0.5.11,!=0.5.12,!=0.5.4,!=0.5.5,!=0.5.7,!=0.5.9,<0.7.0,>=0.4.0->langchain_chroma) (0.4.1)\n",
      "Requirement already satisfied: rsa<5,>=3.1.4 in /opt/homebrew/Caskroom/miniconda/base/envs/analysis_env/lib/python3.12/site-packages (from google-auth>=1.0.1->kubernetes>=28.1.0->chromadb!=0.5.10,!=0.5.11,!=0.5.12,!=0.5.4,!=0.5.5,!=0.5.7,!=0.5.9,<0.7.0,>=0.4.0->langchain_chroma) (4.9)\n",
      "Requirement already satisfied: filelock in /opt/homebrew/Caskroom/miniconda/base/envs/analysis_env/lib/python3.12/site-packages (from huggingface-hub<1.0,>=0.16.4->tokenizers>=0.13.2->chromadb!=0.5.10,!=0.5.11,!=0.5.12,!=0.5.4,!=0.5.5,!=0.5.7,!=0.5.9,<0.7.0,>=0.4.0->langchain_chroma) (3.18.0)\n",
      "Requirement already satisfied: fsspec>=2023.5.0 in /opt/homebrew/Caskroom/miniconda/base/envs/analysis_env/lib/python3.12/site-packages (from huggingface-hub<1.0,>=0.16.4->tokenizers>=0.13.2->chromadb!=0.5.10,!=0.5.11,!=0.5.12,!=0.5.4,!=0.5.5,!=0.5.7,!=0.5.9,<0.7.0,>=0.4.0->langchain_chroma) (2025.3.0)\n",
      "Requirement already satisfied: zipp>=3.20 in /opt/homebrew/Caskroom/miniconda/base/envs/analysis_env/lib/python3.12/site-packages (from importlib-metadata<8.7.0,>=6.0->opentelemetry-api>=1.2.0->chromadb!=0.5.10,!=0.5.11,!=0.5.12,!=0.5.4,!=0.5.5,!=0.5.7,!=0.5.9,<0.7.0,>=0.4.0->langchain_chroma) (3.21.0)\n",
      "Requirement already satisfied: mdurl~=0.1 in /opt/homebrew/Caskroom/miniconda/base/envs/analysis_env/lib/python3.12/site-packages (from markdown-it-py>=2.2.0->rich>=10.11.0->chromadb!=0.5.10,!=0.5.11,!=0.5.12,!=0.5.4,!=0.5.5,!=0.5.7,!=0.5.9,<0.7.0,>=0.4.0->langchain_chroma) (0.1.2)\n",
      "Requirement already satisfied: humanfriendly>=9.1 in /opt/homebrew/Caskroom/miniconda/base/envs/analysis_env/lib/python3.12/site-packages (from coloredlogs->onnxruntime>=1.14.1->chromadb!=0.5.10,!=0.5.11,!=0.5.12,!=0.5.4,!=0.5.5,!=0.5.7,!=0.5.9,<0.7.0,>=0.4.0->langchain_chroma) (10.0)\n",
      "Requirement already satisfied: mpmath<1.4,>=1.1.0 in /opt/homebrew/Caskroom/miniconda/base/envs/analysis_env/lib/python3.12/site-packages (from sympy->onnxruntime>=1.14.1->chromadb!=0.5.10,!=0.5.11,!=0.5.12,!=0.5.4,!=0.5.5,!=0.5.7,!=0.5.9,<0.7.0,>=0.4.0->langchain_chroma) (1.3.0)\n",
      "Requirement already satisfied: pyasn1<0.7.0,>=0.4.6 in /opt/homebrew/Caskroom/miniconda/base/envs/analysis_env/lib/python3.12/site-packages (from pyasn1-modules>=0.2.1->google-auth>=1.0.1->kubernetes>=28.1.0->chromadb!=0.5.10,!=0.5.11,!=0.5.12,!=0.5.4,!=0.5.5,!=0.5.7,!=0.5.9,<0.7.0,>=0.4.0->langchain_chroma) (0.6.1)\n"
     ]
    }
   ],
   "source": [
    "! pip install langchain_chroma langchain_ollama langchain_core langchain_groq load_dotenv langchain_community"
   ]
  },
  {
   "cell_type": "markdown",
   "metadata": {},
   "source": [
    "## Imports"
   ]
  },
  {
   "cell_type": "code",
   "execution_count": 1,
   "metadata": {},
   "outputs": [
    {
     "data": {
      "text/plain": [
       "True"
      ]
     },
     "execution_count": 1,
     "metadata": {},
     "output_type": "execute_result"
    }
   ],
   "source": [
    "\n",
    "from langchain_ollama import OllamaEmbeddings\n",
    "from langchain_community.document_loaders import TextLoader\n",
    "from langchain_text_splitters import RecursiveCharacterTextSplitter\n",
    "from langchain.schema.document import Document\n",
    "from langchain_groq import ChatGroq\n",
    "from load_dotenv import load_dotenv\n",
    "from langchain_core.prompts import ChatPromptTemplate\n",
    "from langchain_core.runnables import RunnablePassthrough\n",
    "from langchain_core.output_parsers import StrOutputParser\n",
    "\n",
    "\n",
    "import os\n",
    "\n",
    "load_dotenv()"
   ]
  },
  {
   "cell_type": "markdown",
   "metadata": {},
   "source": [
    "### Paths "
   ]
  },
  {
   "cell_type": "code",
   "execution_count": 2,
   "metadata": {},
   "outputs": [],
   "source": [
    "\n",
    "CHROMA_PATH = 'chromadb'\n",
    "DATA_PATH = 'data'"
   ]
  },
  {
   "cell_type": "code",
   "execution_count": 3,
   "metadata": {},
   "outputs": [
    {
     "name": "stderr",
     "output_type": "stream",
     "text": [
      "/var/folders/j9/d1pzgsn97lg_73f9kqf467mm0000gn/T/ipykernel_87369/1444612569.py:2: LangChainDeprecationWarning: The class `Chroma` was deprecated in LangChain 0.2.9 and will be removed in 1.0. An updated version of the class exists in the :class:`~langchain-chroma package and should be used instead. To use it run `pip install -U :class:`~langchain-chroma` and import as `from :class:`~langchain_chroma import Chroma``.\n",
      "  db = Chroma(\n"
     ]
    }
   ],
   "source": [
    "from langchain.vectorstores.chroma import Chroma\n",
    "db = Chroma(\n",
    "    persist_directory=CHROMA_PATH,\n",
    ")"
   ]
  },
  {
   "cell_type": "markdown",
   "metadata": {},
   "source": [
    "## Data (Report) Preprocessing"
   ]
  },
  {
   "cell_type": "code",
   "execution_count": 4,
   "metadata": {},
   "outputs": [
    {
     "name": "stdout",
     "output_type": "stream",
     "text": [
      "Text cleaning completed successfully.\n"
     ]
    }
   ],
   "source": [
    "import re\n",
    "import string\n",
    "\n",
    "def clean_text(text):\n",
    "\n",
    "    # Convert text to lowercase\n",
    "    text = text.lower()\n",
    "    \n",
    "    # Remove Extra Newlines\n",
    "    text = re.sub(r'\\n+', '\\n', text)\n",
    "    \n",
    "    return text\n",
    "\n",
    "# Load the text file\n",
    "with open('data/final_hotel_bookings_report.txt', 'r', encoding='utf-8') as file:\n",
    "    text = file.read()\n",
    "\n",
    "# Clean the text\n",
    "cleaned_text = clean_text(text)\n",
    "\n",
    "# Save the cleaned text to a file\n",
    "with open('data/cleaned/final_hotel_bookings_report_cleaned.txt', 'w', encoding='utf-8') as file:\n",
    "    file.write(cleaned_text)\n",
    "\n",
    "print(\"Text cleaning completed successfully.\")\n"
   ]
  },
  {
   "cell_type": "markdown",
   "metadata": {},
   "source": [
    "# Chunking"
   ]
  },
  {
   "cell_type": "code",
   "execution_count": 5,
   "metadata": {},
   "outputs": [],
   "source": [
    "def split_documents(document:Document) ->Document :\n",
    "    text_splitter = RecursiveCharacterTextSplitter(\n",
    "        chunk_size=200,\n",
    "        chunk_overlap=30,\n",
    "        length_function = len,\n",
    "        is_separator_regex=False,\n",
    "    )\n",
    "    return text_splitter.split_documents(document)\n",
    "\n"
   ]
  },
  {
   "cell_type": "code",
   "execution_count": 6,
   "metadata": {},
   "outputs": [
    {
     "data": {
      "text/plain": [
       "Document(metadata={'source': './data/cleaned/final_hotel_bookings_report_cleaned.txt'}, page_content='hotel bookings report\\nai-generated analysis:')"
      ]
     },
     "execution_count": 6,
     "metadata": {},
     "output_type": "execute_result"
    }
   ],
   "source": [
    "# load the text file\n",
    "text_loader = TextLoader('./data/cleaned/final_hotel_bookings_report_cleaned.txt')\n",
    "documents = text_loader.load()\n",
    "chunks = split_documents(documents)\n",
    "\n",
    "chunks[0]"
   ]
  },
  {
   "cell_type": "code",
   "execution_count": 7,
   "metadata": {},
   "outputs": [
    {
     "name": "stdout",
     "output_type": "stream",
     "text": [
      "page_content='hotel bookings report\n",
      "ai-generated analysis:' metadata={'source': './data/cleaned/final_hotel_bookings_report_cleaned.txt'}\n",
      "---\n",
      "page_content='content='**hotel bookings report**\\n\\n**executive summary**\\n\\nthis report provides an overview of the hotel bookings data from july 2015 to august 2017. the report highlights key metrics, trends,' metadata={'source': './data/cleaned/final_hotel_bookings_report_cleaned.txt'}\n",
      "---\n",
      "page_content='key metrics, trends, and insights that can inform business decisions and improve hotel operations.\\n\\n**key metrics**\\n\\n* **total bookings**: 119,390\\n* **non-canceled bookings**: 75,166 (63% of' metadata={'source': './data/cleaned/final_hotel_bookings_report_cleaned.txt'}\n",
      "---\n",
      "page_content='bookings**: 75,166 (63% of total bookings)\\n* **cancellation rate**: 37.04%\\n* **average daily rate (adr)**: $99.99\\n* **average adults per booking**: 1.86\\n\\n**revenue analysis**\\n\\n* **monthly' metadata={'source': './data/cleaned/final_hotel_bookings_report_cleaned.txt'}\n",
      "---\n",
      "page_content='analysis**\\n\\n* **monthly revenues**: the hotel generated the highest revenue in august 2016 ($1,809,324.75) and the lowest in november 2015 ($346,709.49).\\n* **top 3 revenue months**: august 2016,' metadata={'source': './data/cleaned/final_hotel_bookings_report_cleaned.txt'}\n",
      "---\n",
      "page_content='months**: august 2016, july 2017, and june 2017\\n* **hotel revenue**: the city hotel generated $14,394,410.18 in revenue, while the resort hotel generated $11,601,850.23.\\n\\n**customer' metadata={'source': './data/cleaned/final_hotel_bookings_report_cleaned.txt'}\n",
      "---\n",
      "page_content='$11,601,850.23.\\n\\n**customer distribution**\\n\\n* **transient**: 75.06% of bookings\\n* **transient-party**: 21.04% of bookings\\n* **contract**: 3.41% of bookings\\n* **group**: 0.48% of' metadata={'source': './data/cleaned/final_hotel_bookings_report_cleaned.txt'}\n",
      "---\n",
      "page_content='**group**: 0.48% of bookings\\n\\n**lead time distribution**\\n\\n* **mean lead time**: 104.01 days\\n* **standard deviation**: 106.86 days\\n* **minimum lead time**: 0 days\\n* **maximum lead time**: 737' metadata={'source': './data/cleaned/final_hotel_bookings_report_cleaned.txt'}\n",
      "---\n",
      "page_content='**maximum lead time**: 737 days\\n\\n**meal distribution**\\n\\n* **bed and breakfast (bb)**: 77.32% of bookings\\n* **half board (hb)**: 12.11% of bookings\\n* **self-catering (sc)**: 8.92% of bookings\\n*' metadata={'source': './data/cleaned/final_hotel_bookings_report_cleaned.txt'}\n",
      "---\n",
      "page_content='(sc)**: 8.92% of bookings\\n* **undefined**: 0.98% of bookings\\n* **full board (fb)**: 0.67% of bookings\\n\\n**booking changes distribution**\\n\\n* **mean booking changes**: 0.22\\n* **standard' metadata={'source': './data/cleaned/final_hotel_bookings_report_cleaned.txt'}\n",
      "---\n",
      "page_content='changes**: 0.22\\n* **standard deviation**: 0.65\\n* **minimum booking changes**: 0\\n* **maximum booking changes**: 21\\n\\n**top countries**\\n\\n* **portugal (prt)**: 40.70% of bookings\\n* **united' metadata={'source': './data/cleaned/final_hotel_bookings_report_cleaned.txt'}\n",
      "---\n",
      "page_content='of bookings\\n* **united kingdom (gbr)**: 10.16% of bookings\\n* **france (fra)**: 8.72% of bookings\\n* **spain (esp)**: 7.18% of bookings\\n* **germany (deu)**: 6.10% of' metadata={'source': './data/cleaned/final_hotel_bookings_report_cleaned.txt'}\n",
      "---\n",
      "page_content='**germany (deu)**: 6.10% of bookings\\n\\n**recommendations**\\n\\n1. **optimize pricing**: analyze the revenue data to identify opportunities to increase prices during peak periods.\\n2. **improve' metadata={'source': './data/cleaned/final_hotel_bookings_report_cleaned.txt'}\n",
      "---\n",
      "page_content='peak periods.\\n2. **improve customer segmentation**: develop targeted marketing campaigns to attract more transient-party and contract bookings.\\n3. **enhance customer experience**: focus on' metadata={'source': './data/cleaned/final_hotel_bookings_report_cleaned.txt'}\n",
      "---\n",
      "page_content='experience**: focus on providing excellent service to transient customers, who make up the majority of bookings.\\n4. **streamline operations**: implement process improvements to reduce lead times and' metadata={'source': './data/cleaned/final_hotel_bookings_report_cleaned.txt'}\n",
      "---\n",
      "page_content='to reduce lead times and increase efficiency.\\n5. **monitor and adjust**: continuously monitor key metrics and adjust strategies to optimize hotel performance.\\n\\n**conclusion**\\n\\nthis report' metadata={'source': './data/cleaned/final_hotel_bookings_report_cleaned.txt'}\n",
      "---\n",
      "page_content='report provides valuable insights into the hotel bookings data, highlighting opportunities for growth and improvement. by implementing the recommended strategies, the hotel can increase revenue,' metadata={'source': './data/cleaned/final_hotel_bookings_report_cleaned.txt'}\n",
      "---\n",
      "page_content='hotel can increase revenue, enhance customer satisfaction, and optimize operations.' additional_kwargs={} response_metadata={'token_usage': {'completion_tokens': 693, 'prompt_tokens': 1584,' metadata={'source': './data/cleaned/final_hotel_bookings_report_cleaned.txt'}\n",
      "---\n",
      "page_content='693, 'prompt_tokens': 1584, 'total_tokens': 2277, 'completion_time': 0.924, 'prompt_time': 0.04301709, 'queue_time': 0.054196821, 'total_time': 0.96701709}, 'model_name': 'llama-3.1-8b-instant',' metadata={'source': './data/cleaned/final_hotel_bookings_report_cleaned.txt'}\n",
      "---\n",
      "page_content=''llama-3.1-8b-instant', 'system_fingerprint': 'fp_19ca34f5ed', 'finish_reason': 'stop', 'logprobs': none} id='run-4d6d4ef5-f4c1-4f73-ba8e-29e98ebc9bbf-0' usage_metadata={'input_tokens': 1584,' metadata={'source': './data/cleaned/final_hotel_bookings_report_cleaned.txt'}\n",
      "---\n",
      "page_content='1584, 'output_tokens': 693, 'total_tokens': 2277}' metadata={'source': './data/cleaned/final_hotel_bookings_report_cleaned.txt'}\n",
      "---\n",
      "page_content='structured data insights:\n",
      "{\n",
      "    \"total_bookings\": 119390,\n",
      "    \"non_canceled_bookings\": 75166,\n",
      "    \"cancellation_rate\": 37.041628277075134,\n",
      "    \"monthly_revenues\": [\n",
      "        {' metadata={'source': './data/cleaned/final_hotel_bookings_report_cleaned.txt'}\n",
      "---\n",
      "page_content='{\n",
      "            \"arrival_date\": \"2015-07\",\n",
      "            \"total_revenue\": 758339.79\n",
      "        },\n",
      "        {\n",
      "            \"arrival_date\": \"2015-08\",\n",
      "            \"total_revenue\": 1137652.71\n",
      "        },' metadata={'source': './data/cleaned/final_hotel_bookings_report_cleaned.txt'}\n",
      "---\n",
      "page_content='},\n",
      "        {\n",
      "            \"arrival_date\": \"2015-09\",\n",
      "            \"total_revenue\": 1054620.67\n",
      "        },\n",
      "        {\n",
      "            \"arrival_date\": \"2015-10\",\n",
      "            \"total_revenue\": 784714.88' metadata={'source': './data/cleaned/final_hotel_bookings_report_cleaned.txt'}\n",
      "---\n",
      "page_content='},\n",
      "        {\n",
      "            \"arrival_date\": \"2015-11\",\n",
      "            \"total_revenue\": 346709.49\n",
      "        },\n",
      "        {\n",
      "            \"arrival_date\": \"2015-12\",\n",
      "            \"total_revenue\": 429521.57' metadata={'source': './data/cleaned/final_hotel_bookings_report_cleaned.txt'}\n",
      "---\n",
      "page_content='},\n",
      "        {\n",
      "            \"arrival_date\": \"2016-01\",\n",
      "            \"total_revenue\": 264521.38\n",
      "        },\n",
      "        {\n",
      "            \"arrival_date\": \"2016-02\",\n",
      "            \"total_revenue\": 484170.72' metadata={'source': './data/cleaned/final_hotel_bookings_report_cleaned.txt'}\n",
      "---\n",
      "page_content='},\n",
      "        {\n",
      "            \"arrival_date\": \"2016-03\",\n",
      "            \"total_revenue\": 767337.42\n",
      "        },\n",
      "        {\n",
      "            \"arrival_date\": \"2016-04\",\n",
      "            \"total_revenue\": 896591.38' metadata={'source': './data/cleaned/final_hotel_bookings_report_cleaned.txt'}\n",
      "---\n",
      "page_content='},\n",
      "        {\n",
      "            \"arrival_date\": \"2016-05\",\n",
      "            \"total_revenue\": 1073277.63\n",
      "        },\n",
      "        {\n",
      "            \"arrival_date\": \"2016-06\",\n",
      "            \"total_revenue\": 1144800.38' metadata={'source': './data/cleaned/final_hotel_bookings_report_cleaned.txt'}\n",
      "---\n",
      "page_content='},\n",
      "        {\n",
      "            \"arrival_date\": \"2016-07\",\n",
      "            \"total_revenue\": 1525019.05\n",
      "        },\n",
      "        {\n",
      "            \"arrival_date\": \"2016-08\",\n",
      "            \"total_revenue\": 1809324.75' metadata={'source': './data/cleaned/final_hotel_bookings_report_cleaned.txt'}\n",
      "---\n",
      "page_content='},\n",
      "        {\n",
      "            \"arrival_date\": \"2016-09\",\n",
      "            \"total_revenue\": 1289642.69\n",
      "        },\n",
      "        {\n",
      "            \"arrival_date\": \"2016-10\",\n",
      "            \"total_revenue\": 1072101.84' metadata={'source': './data/cleaned/final_hotel_bookings_report_cleaned.txt'}\n",
      "---\n",
      "page_content='},\n",
      "        {\n",
      "            \"arrival_date\": \"2016-11\",\n",
      "            \"total_revenue\": 688843.47\n",
      "        },\n",
      "        {\n",
      "            \"arrival_date\": \"2016-12\",\n",
      "            \"total_revenue\": 657870.72' metadata={'source': './data/cleaned/final_hotel_bookings_report_cleaned.txt'}\n",
      "---\n",
      "page_content='},\n",
      "        {\n",
      "            \"arrival_date\": \"2017-01\",\n",
      "            \"total_revenue\": 512155.46\n",
      "        },\n",
      "        {\n",
      "            \"arrival_date\": \"2017-02\",\n",
      "            \"total_revenue\": 663370.76' metadata={'source': './data/cleaned/final_hotel_bookings_report_cleaned.txt'}\n",
      "---\n",
      "page_content='},\n",
      "        {\n",
      "            \"arrival_date\": \"2017-03\",\n",
      "            \"total_revenue\": 884761.17\n",
      "        },\n",
      "        {\n",
      "            \"arrival_date\": \"2017-04\",\n",
      "            \"total_revenue\": 1203266.1' metadata={'source': './data/cleaned/final_hotel_bookings_report_cleaned.txt'}\n",
      "---\n",
      "page_content='},\n",
      "        {\n",
      "            \"arrival_date\": \"2017-05\",\n",
      "            \"total_revenue\": 1321936.01\n",
      "        },\n",
      "        {\n",
      "            \"arrival_date\": \"2017-06\",\n",
      "            \"total_revenue\": 1438490.54' metadata={'source': './data/cleaned/final_hotel_bookings_report_cleaned.txt'}\n",
      "---\n",
      "page_content='},\n",
      "        {\n",
      "            \"arrival_date\": \"2017-07\",\n",
      "            \"total_revenue\": 1817038.23\n",
      "        },\n",
      "        {\n",
      "            \"arrival_date\": \"2017-08\",\n",
      "            \"total_revenue\": 1970181.6' metadata={'source': './data/cleaned/final_hotel_bookings_report_cleaned.txt'}\n",
      "---\n",
      "page_content='}\n",
      "    ],\n",
      "    \"top_countries\": {\n",
      "        \"prt\": 40.69855096741771,\n",
      "        \"gbr\": 10.159142306725856,\n",
      "        \"fra\": 8.723511181841024,\n",
      "        \"esp\": 7.176480442248094,' metadata={'source': './data/cleaned/final_hotel_bookings_report_cleaned.txt'}\n",
      "---\n",
      "page_content='\"deu\": 6.10352625848061,\n",
      "        \"ita\": 3.154368037524081,\n",
      "        \"irl\": 2.826869922104029,\n",
      "        \"bel\": 1.9616383281681884,\n",
      "        \"bra\": 1.8628025797805512,' metadata={'source': './data/cleaned/final_hotel_bookings_report_cleaned.txt'}\n",
      "---\n",
      "page_content='\"nld\": 1.7622916492168523\n",
      "    },\n",
      "    \"lead_time_distribution\": {\n",
      "        \"count\": 119390.0,\n",
      "        \"mean\": 104.01141636652986,\n",
      "        \"std\": 106.86309704798794,\n",
      "        \"min\": 0.0,' metadata={'source': './data/cleaned/final_hotel_bookings_report_cleaned.txt'}\n",
      "---\n",
      "page_content='\"min\": 0.0,\n",
      "        \"25%\": 18.0,\n",
      "        \"50%\": 69.0,\n",
      "        \"75%\": 160.0,\n",
      "        \"max\": 737.0\n",
      "    },\n",
      "    \"avg_adults_all\": 1.8564033838679956,' metadata={'source': './data/cleaned/final_hotel_bookings_report_cleaned.txt'}\n",
      "---\n",
      "page_content='\"avg_adults_non_canceled\": 1.8297368491073092,\n",
      "    \"stay_percentage\": {\n",
      "        \"total_weekend_nights\": \"69827\",\n",
      "        \"total_weekday_nights\": \"69827\",\n",
      "        \"total_nights\": \"139654\",' metadata={'source': './data/cleaned/final_hotel_bookings_report_cleaned.txt'}\n",
      "---\n",
      "page_content='\"weekend_percentage\": 50.0,\n",
      "        \"weekday_percentage\": 50.0\n",
      "    },\n",
      "    \"customer_distribution\": {\n",
      "        \"transient\": 75.05905017170618,\n",
      "        \"transient-party\": 21.043638495686405,' metadata={'source': './data/cleaned/final_hotel_bookings_report_cleaned.txt'}\n",
      "---\n",
      "page_content='\"contract\": 3.4140212748136363,\n",
      "        \"group\": 0.48329005779378503\n",
      "    },\n",
      "    \"hotel_revenue\": [\n",
      "        {\n",
      "            \"hotel\": \"city hotel\",\n",
      "            \"total_revenue\": 14394410.18' metadata={'source': './data/cleaned/final_hotel_bookings_report_cleaned.txt'}\n",
      "---\n",
      "page_content='},\n",
      "        {\n",
      "            \"hotel\": \"resort hotel\",\n",
      "            \"total_revenue\": 11601850.23\n",
      "        }\n",
      "    ],\n",
      "    \"hotel_cancellations\": [\n",
      "        {\n",
      "            \"hotel\": \"city hotel\",' metadata={'source': './data/cleaned/final_hotel_bookings_report_cleaned.txt'}\n",
      "---\n",
      "page_content='\"is_canceled\": 0.41726963317786464\n",
      "        },\n",
      "        {\n",
      "            \"hotel\": \"resort hotel\",\n",
      "            \"is_canceled\": 0.27763354967548676\n",
      "        }\n",
      "    ],\n",
      "    \"meal_distribution\": {' metadata={'source': './data/cleaned/final_hotel_bookings_report_cleaned.txt'}\n",
      "---\n",
      "page_content='\"meal_distribution\": {\n",
      "        \"bb\": 77.3180333361253,\n",
      "        \"hb\": 12.114079906189797,\n",
      "        \"sc\": 8.920345087528268,\n",
      "        \"undefined\": 0.9791439819080325,\n",
      "        \"fb\": 0.668397688248597' metadata={'source': './data/cleaned/final_hotel_bookings_report_cleaned.txt'}\n",
      "---\n",
      "page_content='},\n",
      "    \"avg_adr\": 99.98769297288668,\n",
      "    \"booking_changes_distribution\": {\n",
      "        \"count\": 119390.0,\n",
      "        \"mean\": 0.22112404724013737,\n",
      "        \"std\": 0.6523055726747721,\n",
      "        \"min\": 0.0,' metadata={'source': './data/cleaned/final_hotel_bookings_report_cleaned.txt'}\n",
      "---\n",
      "page_content='\"min\": 0.0,\n",
      "        \"25%\": 0.0,\n",
      "        \"50%\": 0.0,\n",
      "        \"75%\": 0.0,\n",
      "        \"max\": 21.0\n",
      "    },\n",
      "    \"date_range\": {\n",
      "        \"start\": \"2015-07-01\",\n",
      "        \"end\": \"2017-08-31\"\n",
      "    }\n",
      "}' metadata={'source': './data/cleaned/final_hotel_bookings_report_cleaned.txt'}\n",
      "---\n"
     ]
    }
   ],
   "source": [
    "# Check is there is updated version of the document\n",
    "for chunk in chunks:\n",
    "    print(chunk)\n",
    "    print('---')"
   ]
  },
  {
   "cell_type": "markdown",
   "metadata": {},
   "source": [
    "## Embedding chunked data"
   ]
  },
  {
   "cell_type": "code",
   "execution_count": 8,
   "metadata": {},
   "outputs": [],
   "source": [
    "# ollama (local) embeddings\n",
    "local_embeddings = OllamaEmbeddings(model=\"nomic-embed-text:latest\")\n",
    "\n",
    "# create a new database \n",
    "vectorstore = Chroma.from_documents(documents=chunks, embedding=local_embeddings,)\n",
    "\n",
    "retriever = vectorstore.as_retriever()"
   ]
  },
  {
   "cell_type": "markdown",
   "metadata": {},
   "source": [
    "## LLM Calling on Knowledge base"
   ]
  },
  {
   "cell_type": "code",
   "execution_count": 9,
   "metadata": {},
   "outputs": [],
   "source": [
    "llm = ChatGroq(\n",
    "    model=\"llama-3.1-8b-instant\",\n",
    "    temperature=0,\n",
    "    max_tokens=None,\n",
    "    timeout=None,\n",
    "    max_retries=2,\n",
    "    # make sure to add api key to the environment (.env file)\n",
    ")"
   ]
  },
  {
   "cell_type": "code",
   "execution_count": 10,
   "metadata": {},
   "outputs": [],
   "source": [
    "rag_template = \"\"\"You are 'Lula' a QA system, you are a hotel booking assistant and answering questions about hotel bookings.\n",
    "{context}\n",
    "Question: {question}\n",
    "Note :- Do not include any extra information or disclaimer in the answer.\n",
    "\"\"\"\n",
    "rag_prompt = ChatPromptTemplate.from_template(rag_template)\n",
    "rag_chain = (\n",
    "    {\"context\": retriever, \"question\": RunnablePassthrough()}\n",
    "    | rag_prompt\n",
    "    | llm\n",
    "    | StrOutputParser()\n",
    ")"
   ]
  },
  {
   "cell_type": "code",
   "execution_count": 11,
   "metadata": {},
   "outputs": [
    {
     "name": "stdout",
     "output_type": "stream",
     "text": [
      "The city hotel generated $14,394,410.18 in revenue, while the resort hotel generated $11,601,850.23.\n"
     ]
    }
   ],
   "source": [
    "# Test 1\n",
    "response = rag_chain.invoke(\"What is the revenue of the hotel?\")\n",
    "print(response)"
   ]
  },
  {
   "cell_type": "code",
   "execution_count": 12,
   "metadata": {},
   "outputs": [
    {
     "name": "stdout",
     "output_type": "stream",
     "text": [
      "I am Lula, a hotel booking assistant.\n"
     ]
    }
   ],
   "source": [
    "# Test 2\n",
    "response = rag_chain.invoke(\"Who are you?\")\n",
    "print(response)"
   ]
  },
  {
   "cell_type": "code",
   "execution_count": 13,
   "metadata": {},
   "outputs": [
    {
     "name": "stdout",
     "output_type": "stream",
     "text": [
      "1525019.05\n"
     ]
    }
   ],
   "source": [
    "# Test 3\n",
    "response = rag_chain.invoke(\"Show me total revenue for July 2016?\")\n",
    "print(response)"
   ]
  },
  {
   "cell_type": "code",
   "execution_count": 14,
   "metadata": {},
   "outputs": [
    {
     "name": "stdout",
     "output_type": "stream",
     "text": [
      "City hotel had the highest booking cancellation.\n"
     ]
    }
   ],
   "source": [
    "# Test 4\n",
    "response = rag_chain.invoke(\"Which location had the highest booking cancellation ?\")\n",
    "print(response)"
   ]
  },
  {
   "cell_type": "code",
   "execution_count": 15,
   "metadata": {},
   "outputs": [
    {
     "name": "stdout",
     "output_type": "stream",
     "text": [
      "$99.99\n"
     ]
    }
   ],
   "source": [
    "# Test 5\n",
    "response = rag_chain.invoke(\"What is the average price of a hotel booking?\")\n",
    "print(response)"
   ]
  },
  {
   "cell_type": "code",
   "execution_count": 16,
   "metadata": {},
   "outputs": [
    {
     "name": "stdout",
     "output_type": "stream",
     "text": [
      "Based on the provided hotel bookings report, here are the major insights:\n",
      "\n",
      "- The hotel had a total of 119,390 bookings.\n",
      "- Out of these bookings, 75,166 were non-canceled, which accounts for 63% of the total bookings.\n",
      "- The report provides valuable insights into the hotel bookings data, highlighting opportunities for growth and improvement.\n",
      "- By implementing the recommended strategies, the hotel can increase revenue.\n",
      "- The report highlights key metrics, trends, and insights that can inform business decisions and improve hotel operations.\n",
      "- The hotel bookings report provides an overview of the hotel bookings data from July 2015 to August 2017.\n"
     ]
    }
   ],
   "source": [
    "# Test 6\n",
    "response = rag_chain.invoke(\"Draw major insights from the all the info you know about the hotel bookings.\")\n",
    "print(response)"
   ]
  },
  {
   "cell_type": "code",
   "execution_count": 17,
   "metadata": {},
   "outputs": [
    {
     "name": "stdout",
     "output_type": "stream",
     "text": [
      "Based on the provided report, the hotel and country that require improvement are Germany (DEU) with 6.10% of bookings. \n",
      "\n",
      "The need for improvement in Germany is due to the low percentage of bookings, indicating a potential opportunity for growth.\n"
     ]
    }
   ],
   "source": [
    "# Test 7\n",
    "response = rag_chain.invoke(\"hotel and country, where there is a need for improvement? and why?\")\n",
    "print(response)"
   ]
  }
 ],
 "metadata": {
  "kernelspec": {
   "display_name": "analysis_env",
   "language": "python",
   "name": "python3"
  },
  "language_info": {
   "codemirror_mode": {
    "name": "ipython",
    "version": 3
   },
   "file_extension": ".py",
   "mimetype": "text/x-python",
   "name": "python",
   "nbconvert_exporter": "python",
   "pygments_lexer": "ipython3",
   "version": "3.12.0"
  }
 },
 "nbformat": 4,
 "nbformat_minor": 2
}
