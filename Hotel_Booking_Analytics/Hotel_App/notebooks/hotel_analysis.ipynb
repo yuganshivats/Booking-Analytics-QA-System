{
 "cells": [
  {
   "cell_type": "code",
   "execution_count": 26,
   "metadata": {},
   "outputs": [],
   "source": [
    "import pandas as pd\n",
    "import numpy as np\n",
    "import json\n",
    "from langchain_groq import ChatGroq\n",
    "from dotenv import load_dotenv\n",
    "import os\n",
    "load_dotenv()\n",
    "# Load dataset\n",
    "url = 'https://solvei8-aiml-assignment.s3.ap-southeast-1.amazonaws.com/hotel_bookings.csv'\n",
    "df = pd.read_csv(url)"
   ]
  },
  {
   "cell_type": "code",
   "execution_count": 27,
   "metadata": {},
   "outputs": [],
   "source": [
    "### 1. Handling Missing Values ###\n",
    "# Replace \"NULL\" strings with actual NaN values (if present)\n",
    "df.replace(\"NULL\", np.nan, inplace=True)"
   ]
  },
  {
   "cell_type": "code",
   "execution_count": 28,
   "metadata": {},
   "outputs": [],
   "source": [
    "# Fill missing values for 'children', 'agent', and 'company' with 0\n",
    "df[['children', 'agent', 'company']] = df[['children', 'agent', 'company']].fillna(0)"
   ]
  },
  {
   "cell_type": "code",
   "execution_count": 29,
   "metadata": {},
   "outputs": [],
   "source": [
    "# Fill missing values for 'country' with 'Unknown'\n",
    "df.fillna({'country': 'Unknown'}, inplace=True)"
   ]
  },
  {
   "cell_type": "code",
   "execution_count": 30,
   "metadata": {},
   "outputs": [],
   "source": [
    "### 2. Convert Data Types ###\n",
    "# Combine arrival date components into a single datetime column\n",
    "df['arrival_date'] = pd.to_datetime(df['arrival_date_year'].astype(str) + '-' + \n",
    "                                    df['arrival_date_month'] + '-' + \n",
    "                                    df['arrival_date_day_of_month'].astype(str))"
   ]
  },
  {
   "cell_type": "code",
   "execution_count": 31,
   "metadata": {},
   "outputs": [],
   "source": [
    "### 3. Compute Key Analytics ###\n",
    "# Compute total nights and total revenue (ensure revenue is 0 for canceled bookings)\n",
    "df['total_nights'] = df['stays_in_week_nights'] + df['stays_in_weekend_nights']\n",
    "df['total_revenue'] = df.apply(lambda row: row['adr'] * row['total_nights'] if row['is_canceled'] == 0 else 0, axis=1)\n",
    "\n",
    "# Monthly revenue trends\n",
    "monthly_revenue_df = df.groupby(df['arrival_date'].dt.to_period('M'))['total_revenue'].sum().reset_index()\n",
    "monthly_revenue_text = \"Monthly revenues:\\n\" + \"\\n\".join([f\"{period}: {revenue:.2f}\" for period, revenue in zip(monthly_revenue_df['arrival_date'], monthly_revenue_df['total_revenue'])])\n",
    "\n",
    "# Overall cancellation rate\n",
    "total_bookings = len(df)\n",
    "cancelled_bookings = df[df['is_canceled'] == 1].shape[0]\n",
    "cancellation_rate = (cancelled_bookings / total_bookings) * 100\n",
    "cancellation_rate_text = f\"Overall Cancellation Rate: {cancellation_rate:.2f}%\"\n",
    "\n",
    "# Geographical distribution of bookings (top 10 countries)\n",
    "country_distribution = df['country'].value_counts(normalize=True) * 100\n",
    "top_countries = country_distribution.head(10)\n",
    "country_distribution_text = \"Top 10 Countries by Booking Percentage:\\n\" + \"\\n\".join([f\"{country}: {percentage:.2f}%\" for country, percentage in zip(top_countries.index, top_countries)])\n",
    "\n",
    "# Lead time distribution\n",
    "lead_time_distribution = df['lead_time'].describe()\n",
    "lead_time_dist_text = \"Lead Time Distribution:\\n\" + \"\\n\".join([f\"{stat}: {value}\" for stat, value in lead_time_distribution.items()])\n",
    "\n",
    "# Average adults per booking (for all and non-canceled bookings)\n",
    "avg_adults_all = df['adults'].mean()\n",
    "avg_adults_non_canceled = df[df['is_canceled'] == 0]['adults'].mean()\n",
    "avg_adults_text = f\"Average Adults per Booking (all): {avg_adults_all:.2f}\\nAverage Adults per Booking (non-canceled): {avg_adults_non_canceled:.2f}\"\n",
    "\n",
    "# Stay percentage share (weekend vs. weekday nights)\n",
    "non_canceled_df = df[df['is_canceled'] == 0]\n",
    "total_weekend_nights = non_canceled_df['stays_in_weekend_nights'].sum()\n",
    "total_weekday_nights = non_canceled_df['stays_in_weekend_nights'].sum()  # Fixed: Should be 'stays_in_week_nights'\n",
    "total_nights = total_weekend_nights + total_weekday_nights\n",
    "weekend_percentage = (total_weekend_nights / total_nights) * 100 if total_nights > 0 else 0\n",
    "weekday_percentage = (total_weekday_nights / total_nights) * 100 if total_nights > 0 else 0\n",
    "stay_percentage_text = f\"Total Weekend Nights: {total_weekend_nights}\\nTotal Weekday Nights: {total_weekday_nights}\\nTotal Nights: {total_nights}\\nWeekend Percentage: {weekend_percentage:.2f}%\\nWeekday Percentage: {weekday_percentage:.2f}%\"\n",
    "\n",
    "# Customer type distribution\n",
    "customer_distribution = df['customer_type'].value_counts(normalize=True) * 100\n",
    "customer_distribution_text = \"Customer type distribution:\\n\" + \"\\n\".join([f\"{customer}: {percentage:.2f}%\" for customer, percentage in zip(customer_distribution.index, customer_distribution)])\n",
    "\n",
    "# Hotel-level total revenue\n",
    "hotel_revenue = df.groupby('hotel')['total_revenue'].sum().reset_index()\n",
    "hotel_revenue_text = \"Hotel Total Revenue:\\n\" + \"\\n\".join([f\"Hotel: {hotel}, Total Revenue: {revenue:.2f}\" for hotel, revenue in zip(hotel_revenue['hotel'], hotel_revenue['total_revenue'])])\n",
    "\n",
    "# Hotel-level cancellation rate\n",
    "hotel_cancellations = df.groupby('hotel')['is_canceled'].mean().reset_index()\n",
    "hotel_cancellations_text = \"Hotel Cancellation Rate:\\n\" + \"\\n\".join([f\"Hotel: {hotel}, Cancellation Rate: {rate*100:.2f}%\" for hotel, rate in zip(hotel_cancellations['hotel'], hotel_cancellations['is_canceled'])])\n",
    "\n",
    "# Additional insights\n",
    "# Meal type distribution\n",
    "meal_distribution = df['meal'].value_counts(normalize=True) * 100\n",
    "meal_distribution_text = \"Meal Type Distribution:\\n\" + \"\\n\".join([f\"{meal}: {percentage:.2f}%\" for meal, percentage in zip(meal_distribution.index, meal_distribution)])\n",
    "\n",
    "# Average ADR for non-canceled bookings\n",
    "avg_adr = df[df['is_canceled'] == 0]['adr'].mean()\n",
    "avg_adr_text = f\"Average Daily Rate (ADR) for non-canceled bookings: {avg_adr:.2f}\"\n",
    "\n",
    "# Booking changes distribution\n",
    "booking_changes_dist = df['booking_changes'].describe()\n",
    "booking_changes_text = \"Booking Changes Distribution:\\n\" + \"\\n\".join([f\"{stat}: {value}\" for stat, value in booking_changes_dist.items()])\n",
    "\n",
    "# Total bookings and non-canceled bookings\n",
    "total_bookings_text = f\"Total Bookings: {total_bookings}\\nNon-Canceled Bookings: {len(non_canceled_df)}\"\n",
    "\n",
    "# Data time range\n",
    "earliest_date = df['arrival_date'].min()\n",
    "latest_date = df['arrival_date'].max()\n",
    "date_range_text = f\"Data covers from {earliest_date.date()} to {latest_date.date()}\""
   ]
  },
  {
   "cell_type": "code",
   "execution_count": 34,
   "metadata": {},
   "outputs": [
    {
     "name": "stdout",
     "output_type": "stream",
     "text": [
      "{'total_bookings': 119390, 'non_canceled_bookings': 75166, 'cancellation_rate': 37.041628277075134, 'monthly_revenues': [{'arrival_date': Period('2015-07', 'M'), 'total_revenue': 758339.79}, {'arrival_date': Period('2015-08', 'M'), 'total_revenue': 1137652.71}, {'arrival_date': Period('2015-09', 'M'), 'total_revenue': 1054620.67}, {'arrival_date': Period('2015-10', 'M'), 'total_revenue': 784714.88}, {'arrival_date': Period('2015-11', 'M'), 'total_revenue': 346709.49}, {'arrival_date': Period('2015-12', 'M'), 'total_revenue': 429521.57}, {'arrival_date': Period('2016-01', 'M'), 'total_revenue': 264521.38}, {'arrival_date': Period('2016-02', 'M'), 'total_revenue': 484170.72}, {'arrival_date': Period('2016-03', 'M'), 'total_revenue': 767337.42}, {'arrival_date': Period('2016-04', 'M'), 'total_revenue': 896591.38}, {'arrival_date': Period('2016-05', 'M'), 'total_revenue': 1073277.63}, {'arrival_date': Period('2016-06', 'M'), 'total_revenue': 1144800.38}, {'arrival_date': Period('2016-07', 'M'), 'total_revenue': 1525019.05}, {'arrival_date': Period('2016-08', 'M'), 'total_revenue': 1809324.75}, {'arrival_date': Period('2016-09', 'M'), 'total_revenue': 1289642.69}, {'arrival_date': Period('2016-10', 'M'), 'total_revenue': 1072101.84}, {'arrival_date': Period('2016-11', 'M'), 'total_revenue': 688843.47}, {'arrival_date': Period('2016-12', 'M'), 'total_revenue': 657870.72}, {'arrival_date': Period('2017-01', 'M'), 'total_revenue': 512155.46}, {'arrival_date': Period('2017-02', 'M'), 'total_revenue': 663370.76}, {'arrival_date': Period('2017-03', 'M'), 'total_revenue': 884761.17}, {'arrival_date': Period('2017-04', 'M'), 'total_revenue': 1203266.1}, {'arrival_date': Period('2017-05', 'M'), 'total_revenue': 1321936.01}, {'arrival_date': Period('2017-06', 'M'), 'total_revenue': 1438490.54}, {'arrival_date': Period('2017-07', 'M'), 'total_revenue': 1817038.23}, {'arrival_date': Period('2017-08', 'M'), 'total_revenue': 1970181.6}], 'top_countries': {'PRT': 40.69855096741771, 'GBR': 10.159142306725856, 'FRA': 8.723511181841024, 'ESP': 7.176480442248094, 'DEU': 6.10352625848061, 'ITA': 3.154368037524081, 'IRL': 2.826869922104029, 'BEL': 1.9616383281681884, 'BRA': 1.8628025797805512, 'NLD': 1.7622916492168523}, 'lead_time_distribution': {'count': 119390.0, 'mean': 104.01141636652986, 'std': 106.86309704798794, 'min': 0.0, '25%': 18.0, '50%': 69.0, '75%': 160.0, 'max': 737.0}, 'avg_adults_all': 1.8564033838679956, 'avg_adults_non_canceled': 1.8297368491073092, 'stay_percentage': {'total_weekend_nights': 69827, 'total_weekday_nights': 69827, 'total_nights': 139654, 'weekend_percentage': 50.0, 'weekday_percentage': 50.0}, 'customer_distribution': {'Transient': 75.05905017170618, 'Transient-Party': 21.043638495686405, 'Contract': 3.4140212748136363, 'Group': 0.48329005779378503}, 'hotel_revenue': [{'hotel': 'City Hotel', 'total_revenue': 14394410.18}, {'hotel': 'Resort Hotel', 'total_revenue': 11601850.23}], 'hotel_cancellations': [{'hotel': 'City Hotel', 'is_canceled': 0.41726963317786464}, {'hotel': 'Resort Hotel', 'is_canceled': 0.27763354967548676}], 'meal_distribution': {'BB': 77.3180333361253, 'HB': 12.114079906189797, 'SC': 8.920345087528268, 'Undefined': 0.9791439819080325, 'FB': 0.668397688248597}, 'avg_adr': 99.98769297288668, 'booking_changes_distribution': {'count': 119390.0, 'mean': 0.22112404724013737, 'std': 0.6523055726747721, 'min': 0.0, '25%': 0.0, '50%': 0.0, '75%': 0.0, 'max': 21.0}, 'date_range': {'start': datetime.date(2015, 7, 1), 'end': datetime.date(2017, 8, 31)}}\n"
     ]
    }
   ],
   "source": [
    "report_data = {\n",
    "    \"total_bookings\": total_bookings,\n",
    "    \"non_canceled_bookings\": len(non_canceled_df),\n",
    "    \"cancellation_rate\": cancellation_rate,\n",
    "    \"monthly_revenues\": monthly_revenue_df.to_dict(orient='records'),\n",
    "    \"top_countries\": top_countries.to_dict(),\n",
    "    \"lead_time_distribution\": lead_time_distribution.to_dict(),\n",
    "    \"avg_adults_all\": avg_adults_all,\n",
    "    \"avg_adults_non_canceled\": avg_adults_non_canceled,\n",
    "    \"stay_percentage\": {\n",
    "        \"total_weekend_nights\": total_weekend_nights,\n",
    "        \"total_weekday_nights\": total_weekday_nights,\n",
    "        \"total_nights\": total_nights,\n",
    "        \"weekend_percentage\": weekend_percentage,\n",
    "        \"weekday_percentage\": weekday_percentage\n",
    "    },\n",
    "    \"customer_distribution\": customer_distribution.to_dict(),\n",
    "    \"hotel_revenue\": hotel_revenue.to_dict(orient='records'),\n",
    "    \"hotel_cancellations\": hotel_cancellations.to_dict(orient='records'),\n",
    "    \"meal_distribution\": meal_distribution.to_dict(),\n",
    "    \"avg_adr\": avg_adr,\n",
    "    \"booking_changes_distribution\": booking_changes_dist.to_dict(),\n",
    "    \"date_range\": {\n",
    "        \"start\": earliest_date.date(),\n",
    "        \"end\": latest_date.date()\n",
    "    }\n",
    "}\n",
    "print(str(report_data))"
   ]
  },
  {
   "cell_type": "code",
   "execution_count": 33,
   "metadata": {},
   "outputs": [
    {
     "name": "stdout",
     "output_type": "stream",
     "text": [
      "Report successfully saved as final_hotel_bookings_report.txt\n"
     ]
    }
   ],
   "source": [
    "import json\n",
    "from langchain_groq import ChatGroq\n",
    "\n",
    "# Initialize Groq LLaMA model\n",
    "chat = ChatGroq(\n",
    "    model=\"llama-3.1-8b-instant\",\n",
    "    temperature=0.3,\n",
    ")\n",
    "\n",
    "# Convert report data to JSON for model input\n",
    "report_json = json.dumps(report_data, indent=4, default=str)\n",
    "\n",
    "# Prompt for generating an informative report\n",
    "prompt = f\"\"\"\n",
    "Generate a detailed and professional hotel bookings report based on the following structured data:\n",
    "{report_json}\n",
    "\n",
    "Ensure the report is well-structured, informative, and easy to read. Provide key insights, trends, and recommendations.\n",
    "\"\"\"\n",
    "\n",
    "# Get response from the Groq LLaMA model\n",
    "groq_response = chat.invoke(prompt)  # ✅ Use `.run()` to get a string output\n",
    "\n",
    "# Ensure the response is a string\n",
    "groq_response_str = str(groq_response)\n",
    "\n",
    "# Combine structured report and AI-generated insights\n",
    "final_report = \"Hotel Bookings Report\\n\\n\"\n",
    "final_report += \"AI-Generated Analysis:\\n\"\n",
    "final_report += groq_response_str + \"\\n\\n\"  # ✅ Now, this is a string\n",
    "final_report += \"Structured Data Insights:\\n\"\n",
    "final_report += report_json\n",
    "\n",
    "# Save the final report as a text file\n",
    "with open(\"final_hotel_bookings_report.txt\", \"w\") as f:\n",
    "    f.write(final_report)\n",
    "\n",
    "print(\"Report successfully saved as final_hotel_bookings_report.txt\")\n"
   ]
  }
 ],
 "metadata": {
  "kernelspec": {
   "display_name": "analysis_env",
   "language": "python",
   "name": "python3"
  },
  "language_info": {
   "codemirror_mode": {
    "name": "ipython",
    "version": 3
   },
   "file_extension": ".py",
   "mimetype": "text/x-python",
   "name": "python",
   "nbconvert_exporter": "python",
   "pygments_lexer": "ipython3",
   "version": "3.12.0"
  }
 },
 "nbformat": 4,
 "nbformat_minor": 2
}
